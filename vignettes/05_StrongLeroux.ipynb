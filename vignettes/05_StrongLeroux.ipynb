{
 "cells": [
  {
   "cell_type": "markdown",
   "source": [
    "# Step 6 - inflating the predictions with the Newfoundland data"
   ],
   "metadata": {}
  },
  {
   "outputs": [],
   "cell_type": "code",
   "source": [
    "using DelimitedFiles\n",
    "using DataFrames\n",
    "using CSV: CSV\n",
    "using GBIF\n",
    "using NCBITaxonomy: NCBITaxonomy\n",
    "using EcologicalNetworks"
   ],
   "metadata": {},
   "execution_count": null
  },
  {
   "cell_type": "markdown",
   "source": [
    "..."
   ],
   "metadata": {}
  },
  {
   "outputs": [],
   "cell_type": "code",
   "source": [
    "sl_raw = readdlm(\"data/NLfoodweb.csv\", ',')\n",
    "\n",
    "sl_sp = replace.(sl_raw[1, 2:end], \".\" => \" \")\n",
    "sl_A = Bool.(sl_raw[2:end, 2:end])\n",
    "\n",
    "#%% Correct the species names from Strong & Leroux to make them match the GBIF taxonomy\n",
    "nf = NCBITaxonomy.mammalfilter(true);\n",
    "scinames = Dict{String,String}()\n",
    "for s in sl_sp\n",
    "    t = NCBITaxonomy.taxon(s; strict=false)\n",
    "    if !isnothing(t)\n",
    "        scinames[s] = t.name\n",
    "    end\n",
    "end\n",
    "\n",
    "#%% Convert the original names in GBIF names through the matched NCBI names\n",
    "valnames = Dict{String,String}()\n",
    "for (s, t) in scinames\n",
    "    gbifmatch = GBIF.taxon(t; strict=false)\n",
    "    if !isnothing(gbifmatch)\n",
    "        if !ismissing(gbifmatch.species)\n",
    "            if gbifmatch.class.first == \"Mammalia\"\n",
    "                valnames[s] = gbifmatch.species.first\n",
    "            end\n",
    "        end\n",
    "    end\n",
    "end\n",
    "\n",
    "#%% Get the correct keys in the original metaweb\n",
    "idxmatch = findall(x -> x in keys(valnames), sl_sp)\n",
    "\n",
    "#%% Assemble the network\n",
    "spnames = [valnames[s] for s in sl_sp[idxmatch]]\n",
    "A = sl_A[idxmatch, idxmatch]'\n",
    "NL = UnipartiteNetwork(A, spnames)\n",
    "\n",
    "#%% Save as a CSV\n",
    "df = DataFrame(; from=String[], to=String[])\n",
    "for i in interactions(NL)\n",
    "    push!(df, (i.from, i.to))\n",
    "end\n",
    "CSV.write(\"artifacts/newfoundland.csv\", df)"
   ],
   "metadata": {},
   "execution_count": null
  },
  {
   "cell_type": "markdown",
   "source": [
    "---\n",
    "\n",
    "*This notebook was generated using [Literate.jl](https://github.com/fredrikekre/Literate.jl).*"
   ],
   "metadata": {}
  }
 ],
 "nbformat_minor": 3,
 "metadata": {
  "language_info": {
   "file_extension": ".jl",
   "mimetype": "application/julia",
   "name": "julia",
   "version": "1.6.2"
  },
  "kernelspec": {
   "name": "julia-1.6",
   "display_name": "Julia 1.6.2",
   "language": "julia"
  }
 },
 "nbformat": 4
}
