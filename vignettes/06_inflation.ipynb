{
 "cells": [
  {
   "cell_type": "markdown",
   "source": [
    "# Step 7 - inflating the predictions with the GLOBI data"
   ],
   "metadata": {}
  },
  {
   "outputs": [],
   "cell_type": "code",
   "source": [
    "#%% Get the dependencies\n",
    "using HTTP\n",
    "using ProgressMeter\n",
    "using JSON\n",
    "using DataFrames\n",
    "using CSV: CSV\n",
    "using StatsPlots\n",
    "\n",
    "theme(:mute)\n",
    "default(; frame=:box)\n",
    "\n",
    "#%% API info\n",
    "_globi_api = \"https://api.globalbioticinteractions.org/taxon\"\n",
    "relevant_types = [\"eats\", \"preysOn\"]\n",
    "\n",
    "#%% Read the corrected Canadian metaweb\n",
    "canmet = DataFrame(CSV.File(\"artifacts/canadian_corrected.csv\"))\n",
    "\n",
    "#%% Get the data from GLOBI\n",
    "allsp = unique(vcat(canmet.from, canmet.to))\n",
    "\n",
    "diet = DataFrame(; from=String[], to=String[])\n",
    "@showprogress for sp in allsp\n",
    "    url = \"$(_globi_api)/$(sp)/eats/\"\n",
    "    r = HTTP.request(\"GET\", url)\n",
    "    globidiet = JSON.parse(String(r.body))\n",
    "    if !isempty(globidiet[\"data\"])\n",
    "        for intlist in globidiet[\"data\"]\n",
    "            if intlist[2] in relevant_types\n",
    "                for s in intlist[3]\n",
    "                    if s in allsp\n",
    "                        if s != sp\n",
    "                            push!(diet, (sp, s))\n",
    "                        end\n",
    "                    end\n",
    "                end\n",
    "            end\n",
    "        end\n",
    "    end\n",
    "end\n",
    "diet = unique(diet)\n",
    "\n",
    "sort!(diet, [:from, :to])\n",
    "CSV.write(\"artifacts/globi_diet.csv\", diet)\n",
    "\n",
    "#%% Get the data we missed from GLOBI\n",
    "intcode = canmet.from .* canmet.to\n",
    "diet.intcode = diet.from .* diet.to\n",
    "\n",
    "missedint = select(diet[findall([!(d in intcode) for d in diet.intcode]), :], [:from, :to])\n",
    "sort!(missedint, [:from, :to])\n",
    "CSV.write(\"artifacts/globi_newinteractions.csv\", missedint)\n",
    "\n",
    "matchedint = dropmissing(leftjoin(diet, canmet; on=[:from => :from, :to => :to]))\n",
    "\n",
    "@info \"GLOBI: found $(size(missedint, 1)) new interactions out of $(size(diet, 1))\"\n",
    "@info \"GLOBI: $(length(unique(vcat(diet.from, diet.to)))) species\"\n",
    "\n",
    "#%% Get the data we missed from Strong & Leroux\n",
    "canmetsp = unique(vcat(canmet.from, canmet.to))\n",
    "sl = DataFrame(CSV.File(\"artifacts/newfoundland.csv\"))\n",
    "slshared = intersect(canmetsp, unique(vcat(sl.from, sl.to)))\n",
    "\n",
    "slkeep = [(i.from in slshared) & (i.to in slshared) for i in eachrow(sl)]\n",
    "sl = sl[findall(slkeep), :]\n",
    "\n",
    "sl.intcode = sl.from .* sl.to\n",
    "\n",
    "missedslint = select(sl[findall([!(d in intcode) for d in sl.intcode]), :], [:from, :to])\n",
    "\n",
    "sort!(missedslint, [:from, :to])\n",
    "CSV.write(\"artifacts/newfoundland_newinteractions.csv\", missedslint)\n",
    "\n",
    "matchedslint = dropmissing(leftjoin(sl, canmet; on=[:from => :from, :to => :to]))\n",
    "\n",
    "density(matchedint.score; dpi=600, size=(500, 500), lab=\"GLOBI\", lw=2.0)\n",
    "density!(matchedslint.score; lab=\"Newfoundland\", lw=2.0)\n",
    "density!(canmet.score; lw=0.0, fill=(0.2, 0), c=:black, lab=\"All predictions\")\n",
    "xaxis!(\"Imputed probability\", (0, 1))\n",
    "yaxis!(\"Density\", (0, 8))\n",
    "\n",
    "savefig(\"figures/inflation-comparison.png\")\n",
    "\n",
    "@info \"NFLD : found $(size(missedslint, 1)) new interactions out of $(size(sl, 1))\"\n",
    "@info \"NFLD : $(length(unique(vcat(sl.from, sl.to)))) species\"\n",
    "\n",
    "#%% Merge all interactions\n",
    "aug = leftjoin(unique(vcat(missedint, missedslint)), canmet; on=[:from, :to])\n",
    "aug.score .= 1.0\n",
    "\n",
    "inflated = vcat(canmet, aug)\n",
    "\n",
    "sort!(inflated, [:score, :from, :to]; rev=[true, false, false])"
   ],
   "metadata": {},
   "execution_count": null
  },
  {
   "cell_type": "markdown",
   "source": [
    "Save the corrected network"
   ],
   "metadata": {}
  },
  {
   "outputs": [],
   "cell_type": "code",
   "source": [
    "CSV.write(\"artifacts/canadian_inflated.csv\", inflated)"
   ],
   "metadata": {},
   "execution_count": null
  },
  {
   "cell_type": "markdown",
   "source": [
    "---\n",
    "\n",
    "*This notebook was generated using [Literate.jl](https://github.com/fredrikekre/Literate.jl).*"
   ],
   "metadata": {}
  }
 ],
 "nbformat_minor": 3,
 "metadata": {
  "language_info": {
   "file_extension": ".jl",
   "mimetype": "application/julia",
   "name": "julia",
   "version": "1.6.2"
  },
  "kernelspec": {
   "name": "julia-1.6",
   "display_name": "Julia 1.6.2",
   "language": "julia"
  }
 },
 "nbformat": 4
}
