{
 "cells": [
  {
   "cell_type": "markdown",
   "source": [
    "# Step 7 - inflating the predictions"
   ],
   "metadata": {}
  },
  {
   "cell_type": "markdown",
   "source": [
    "In this step, we will add the data from Newfoundland, and get the data from\n",
    "the Global Biotic Interactions Database (GLOBI), in order to inflate the\n",
    "predictions made during the t-SVD/RDPG step."
   ],
   "metadata": {}
  },
  {
   "outputs": [],
   "cell_type": "code",
   "source": [
    "using HTTP\n",
    "using ProgressMeter\n",
    "using JSON\n",
    "using DataFrames\n",
    "using CSV: CSV\n",
    "using StatsPlots"
   ],
   "metadata": {},
   "execution_count": null
  },
  {
   "cell_type": "markdown",
   "source": [
    "There will be some plots, with the same visual aspect as the main text ones."
   ],
   "metadata": {}
  },
  {
   "outputs": [],
   "cell_type": "code",
   "source": [
    "theme(:mute)\n",
    "default(; frame=:box)"
   ],
   "metadata": {},
   "execution_count": null
  },
  {
   "cell_type": "markdown",
   "source": [
    "## Writing a paper-thin GLOBI wrapper"
   ],
   "metadata": {}
  },
  {
   "cell_type": "markdown",
   "source": [
    "GLOBI uses their own types for interactions, which is at best very losely\n",
    "defined - to clarify, it follows an ontology, but this ontology happens to be\n",
    "largely disconnected from the concerns of ecologists, and the differences\n",
    "between `a preysOn b` and `b preysUpon a` are a great mystery. To solve this\n",
    "conundrum, we performed a series of manual data searches using some of the\n",
    "terms related to predation, and picked two that gave the least spurious\n",
    "results."
   ],
   "metadata": {}
  },
  {
   "outputs": [],
   "cell_type": "code",
   "source": [
    "_globi_api = \"https://api.globalbioticinteractions.org/taxon\"\n",
    "relevant_types = [\"eats\", \"preysOn\"]"
   ],
   "metadata": {},
   "execution_count": null
  },
  {
   "cell_type": "markdown",
   "source": [
    "What we will do next is get the species from the Canadian metaweb (we do not\n",
    "really care for the European metaweb anymore, as it has been embedded and\n",
    "transfered), and see if interactions between any pairs of them exist in GLOBI."
   ],
   "metadata": {}
  },
  {
   "outputs": [],
   "cell_type": "code",
   "source": [
    "canmet = DataFrame(CSV.File(\"artifacts/canadian_corrected.csv\"))\n",
    "allsp = unique(vcat(canmet.from, canmet.to))"
   ],
   "metadata": {},
   "execution_count": null
  },
  {
   "cell_type": "markdown",
   "source": [
    "We will again aggregate everything into a data frame."
   ],
   "metadata": {}
  },
  {
   "outputs": [],
   "cell_type": "code",
   "source": [
    "diet = DataFrame(; from=String[], to=String[])"
   ],
   "metadata": {},
   "execution_count": null
  },
  {
   "cell_type": "markdown",
   "source": [
    "Our \"paper-thin\" GLOBI client is here: it constructs an API query URL based on\n",
    "the name of the taxa, and extract the \"meat\" from the JSON response."
   ],
   "metadata": {}
  },
  {
   "outputs": [],
   "cell_type": "code",
   "source": [
    "@showprogress for sp in allsp\n",
    "    url = \"$(_globi_api)/$(sp)/eats/\"\n",
    "    r = HTTP.request(\"GET\", url)\n",
    "    globidiet = JSON.parse(String(r.body))\n",
    "    if !isempty(globidiet[\"data\"])\n",
    "        for intlist in globidiet[\"data\"]\n",
    "            if intlist[2] in relevant_types\n",
    "                for s in intlist[3]\n",
    "                    if s in allsp\n",
    "                        if s != sp\n",
    "                            push!(diet, (sp, s))\n",
    "                        end\n",
    "                    end\n",
    "                end\n",
    "            end\n",
    "        end\n",
    "    end\n",
    "end\n",
    "diet = unique(diet)"
   ],
   "metadata": {},
   "execution_count": null
  },
  {
   "cell_type": "markdown",
   "source": [
    "We now save the GLOBI diet as a CSV file"
   ],
   "metadata": {}
  },
  {
   "outputs": [],
   "cell_type": "code",
   "source": [
    "sort!(diet, [:from, :to])\n",
    "CSV.write(\"artifacts/globi_diet.csv\", diet)"
   ],
   "metadata": {},
   "execution_count": null
  },
  {
   "cell_type": "markdown",
   "source": [
    "## Inflation of the Canadian metaweb with the GLOBI data"
   ],
   "metadata": {}
  },
  {
   "cell_type": "markdown",
   "source": [
    "We now add all GLOBI interactions in the Canadian predicted metaweb, with a\n",
    "probability of 1."
   ],
   "metadata": {}
  },
  {
   "outputs": [],
   "cell_type": "code",
   "source": [
    "intcode = canmet.from .* canmet.to\n",
    "diet.intcode = diet.from .* diet.to"
   ],
   "metadata": {},
   "execution_count": null
  },
  {
   "cell_type": "markdown",
   "source": [
    "We split these interactions for additional examinations as needed, and save as\n",
    "an artifact."
   ],
   "metadata": {}
  },
  {
   "outputs": [],
   "cell_type": "code",
   "source": [
    "missedint = select(diet[findall([!(d in intcode) for d in diet.intcode]), :], [:from, :to])\n",
    "sort!(missedint, [:from, :to])\n",
    "CSV.write(\"artifacts/globi_newinteractions.csv\", missedint)"
   ],
   "metadata": {},
   "execution_count": null
  },
  {
   "cell_type": "markdown",
   "source": [
    "To get the proportion of validated interactions, we now do the opposite: keep\n",
    "the matched interactions:"
   ],
   "metadata": {}
  },
  {
   "outputs": [],
   "cell_type": "code",
   "source": [
    "matchedint = dropmissing(leftjoin(diet, canmet; on=[:from => :from, :to => :to]))"
   ],
   "metadata": {},
   "execution_count": null
  },
  {
   "cell_type": "markdown",
   "source": [
    "And we print the proportions:"
   ],
   "metadata": {}
  },
  {
   "outputs": [],
   "cell_type": "code",
   "source": [
    "@info \"GLOBI: found $(size(missedint, 1)) new interactions out of $(size(diet, 1))\"\n",
    "@info \"GLOBI: $(length(unique(vcat(diet.from, diet.to)))) species\""
   ],
   "metadata": {},
   "execution_count": null
  },
  {
   "cell_type": "markdown",
   "source": [
    "## Inflation of the Canadian metaweb with the Newfoundland metaweb"
   ],
   "metadata": {}
  },
  {
   "cell_type": "markdown",
   "source": [
    "We now do the same things as above using the Newfoundland data."
   ],
   "metadata": {}
  },
  {
   "outputs": [],
   "cell_type": "code",
   "source": [
    "canmetsp = unique(vcat(canmet.from, canmet.to))\n",
    "sl = DataFrame(CSV.File(\"artifacts/newfoundland.csv\"))\n",
    "slshared = intersect(canmetsp, unique(vcat(sl.from, sl.to)))\n",
    "\n",
    "slkeep = [(i.from in slshared) & (i.to in slshared) for i in eachrow(sl)]\n",
    "sl = sl[findall(slkeep), :]\n",
    "\n",
    "sl.intcode = sl.from .* sl.to\n",
    "\n",
    "missedslint = select(sl[findall([!(d in intcode) for d in sl.intcode]), :], [:from, :to])\n",
    "\n",
    "sort!(missedslint, [:from, :to])\n",
    "CSV.write(\"artifacts/newfoundland_newinteractions.csv\", missedslint)\n",
    "\n",
    "matchedslint = dropmissing(leftjoin(sl, canmet; on=[:from => :from, :to => :to]))\n",
    "\n",
    "density(matchedint.score; dpi=600, size=(500, 500), lab=\"GLOBI\", lw=2.0)\n",
    "density!(matchedslint.score; lab=\"Newfoundland\", lw=2.0)\n",
    "density!(canmet.score; lw=0.0, fill=(0.2, 0), c=:black, lab=\"All predictions\")\n",
    "xaxis!(\"Imputed probability\", (0, 1))\n",
    "yaxis!(\"Density\", (0, 8))\n",
    "\n",
    "savefig(\"figures/inflation-comparison.png\")\n",
    "\n",
    "@info \"NFLD : found $(size(missedslint, 1)) new interactions out of $(size(sl, 1))\"\n",
    "@info \"NFLD : $(length(unique(vcat(sl.from, sl.to)))) species\""
   ],
   "metadata": {},
   "execution_count": null
  },
  {
   "cell_type": "markdown",
   "source": [
    "## Merging all the additional interaction sources"
   ],
   "metadata": {}
  },
  {
   "cell_type": "markdown",
   "source": [
    "We can finally join the different missed interactions from GLOBI and the\n",
    "Newfoundland datasets:"
   ],
   "metadata": {}
  },
  {
   "outputs": [],
   "cell_type": "code",
   "source": [
    "aug = leftjoin(unique(vcat(missedint, missedslint)), canmet; on=[:from, :to])\n",
    "aug.score .= 1.0"
   ],
   "metadata": {},
   "execution_count": null
  },
  {
   "cell_type": "markdown",
   "source": [
    "We simply add them to the bottom of the Canadian metaweb, to get the inflated\n",
    "version:"
   ],
   "metadata": {}
  },
  {
   "outputs": [],
   "cell_type": "code",
   "source": [
    "inflated = vcat(canmet, aug)\n",
    "\n",
    "sort!(inflated, [:score, :from, :to]; rev=[true, false, false])"
   ],
   "metadata": {},
   "execution_count": null
  },
  {
   "cell_type": "markdown",
   "source": [
    "We are now ready to save this metaweb, which is the penultimate data product\n",
    "of this pipeline:"
   ],
   "metadata": {}
  },
  {
   "outputs": [],
   "cell_type": "code",
   "source": [
    "CSV.write(\"artifacts/canadian_inflated.csv\", inflated)"
   ],
   "metadata": {},
   "execution_count": null
  },
  {
   "cell_type": "markdown",
   "source": [
    "---\n",
    "\n",
    "*This notebook was generated using [Literate.jl](https://github.com/fredrikekre/Literate.jl).*"
   ],
   "metadata": {}
  }
 ],
 "nbformat_minor": 3,
 "metadata": {
  "language_info": {
   "file_extension": ".jl",
   "mimetype": "application/julia",
   "name": "julia",
   "version": "1.6.2"
  },
  "kernelspec": {
   "name": "julia-1.6",
   "display_name": "Julia 1.6.2",
   "language": "julia"
  }
 },
 "nbformat": 4
}
