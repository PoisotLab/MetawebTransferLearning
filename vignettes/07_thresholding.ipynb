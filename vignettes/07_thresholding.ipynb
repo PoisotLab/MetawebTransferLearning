{
 "cells": [
  {
   "cell_type": "markdown",
   "source": [
    "# Step 8 - finding the interaction cutoff for the final results"
   ],
   "metadata": {}
  },
  {
   "cell_type": "markdown",
   "source": [
    "In the final step, we will remove interactions that have a low probability, by\n",
    "examining different thresholds - these are refered to as \"prediction\n",
    "thresholds\" in the manuscript."
   ],
   "metadata": {}
  },
  {
   "outputs": [],
   "cell_type": "code",
   "source": [
    "using SparseArrays\n",
    "using EcologicalNetworks\n",
    "using DataFrames\n",
    "using CSV: CSV\n",
    "using StatsPlots\n",
    "\n",
    "theme(:mute)\n",
    "default(; frame=:box)"
   ],
   "metadata": {},
   "execution_count": null
  },
  {
   "cell_type": "markdown",
   "source": [
    "We can load the inflated metaweb, which has all the interactions we predicted\n",
    "plus the ones we collected from GLOBI and the Newfoundland dataset (a little\n",
    "less than 40 interactions)."
   ],
   "metadata": {}
  },
  {
   "outputs": [],
   "cell_type": "code",
   "source": [
    "Mij = DataFrame(CSV.File(\"artifacts/canadian_inflated.csv\"))\n",
    "Si = unique(vcat(Mij.from, Mij.to))\n",
    "\n",
    "P = UnipartiteProbabilisticNetwork(zeros(Float64, (length(Si), length(Si))), Si)\n",
    "\n",
    "for int in eachrow(Mij)\n",
    "    P[int.from, int.to] = int.score\n",
    "end"
   ],
   "metadata": {},
   "execution_count": null
  },
  {
   "cell_type": "markdown",
   "source": [
    "## Finding the prediction threshold"
   ],
   "metadata": {}
  },
  {
   "cell_type": "markdown",
   "source": [
    "Our technique for cutoff search will be to get 500 intermediate points between\n",
    "the smallest and largest probabilities (resp. 1/n and 1.0), and examine their\n",
    "effect on the network. We will specifically look for the number of non-zero\n",
    "probability interactions, the expected number of interactions, and the number\n",
    "of species with at least one non-zero probability interaction."
   ],
   "metadata": {}
  },
  {
   "outputs": [],
   "cell_type": "code",
   "source": [
    "ρ = LinRange(extrema(P.edges.nzval)..., 500)\n",
    "U = zeros(Float64, length(ρ))\n",
    "L = zeros(Float64, length(ρ))\n",
    "S = zeros(Float64, length(ρ))"
   ],
   "metadata": {},
   "execution_count": null
  },
  {
   "cell_type": "markdown",
   "source": [
    "This is calculated in the following loop:"
   ],
   "metadata": {}
  },
  {
   "outputs": [],
   "cell_type": "code",
   "source": [
    "for (i, cutoff) in enumerate(ρ)\n",
    "    kept = P.edges.nzval .≥ cutoff\n",
    "    U[i] = sum(kept) / length(kept)\n",
    "    L[i] = sum(P.edges.nzval[kept]) / links(P)\n",
    "    S[i] = richness(simplify(P ≥ cutoff)) / richness(P)\n",
    "end"
   ],
   "metadata": {},
   "execution_count": null
  },
  {
   "cell_type": "markdown",
   "source": [
    "For reference, we have attempted to find a threshold with the central\n",
    "difference technique to identify the curvative in the link/species\n",
    "relationship, and this gives a threshold that is too low (basically only\n",
    "removing the singleton interactions):"
   ],
   "metadata": {}
  },
  {
   "outputs": [],
   "cell_type": "code",
   "source": [
    "∂U = zeros(Float64, length(U))\n",
    "∂L = zeros(Float64, length(U))\n",
    "for i in 2:(length(U) - 1)\n",
    "    ∂U[i] = U[i + 1] + U[i - 1] - 2U[i]\n",
    "    ∂L[i] = L[i + 1] + L[i - 1] - 2L[i]\n",
    "end"
   ],
   "metadata": {},
   "execution_count": null
  },
  {
   "cell_type": "markdown",
   "source": [
    "Instead, we rely on a visualisation of the relationships, and specifically of\n",
    "the point where we remove as many interactions as possible but still keep all\n",
    "species connected:"
   ],
   "metadata": {}
  },
  {
   "outputs": [],
   "cell_type": "code",
   "source": [
    "plot(ρ, U; dpi=600, size=(500, 500), lab=\"Non-zero\")\n",
    "plot!(ρ, L; lab=\"Expected\")\n",
    "xaxis!(\"Cutoff\", (0, 1))\n",
    "yaxis!(\"Proportion of links left\", (0, 1))\n",
    "vline!([ρ[findlast(S .== 1)]]; c=:grey, ls=:dash, lab=\"\")\n",
    "\n",
    "savefig(\"figures/cutoff-interactions.png\")"
   ],
   "metadata": {},
   "execution_count": null
  },
  {
   "cell_type": "markdown",
   "source": [
    "This next plot examines the (lack of an) effect on connectance, which is a\n",
    "fairly obvious result, but still interesting to confirm:"
   ],
   "metadata": {}
  },
  {
   "outputs": [],
   "cell_type": "code",
   "source": [
    "plot(ρ, 1.0 .- S; dpi=600, size=(500, 500), lab=\"Disconnected species\", legend=:topleft)\n",
    "l = L .* links(P)\n",
    "s = S .* richness(P)\n",
    "plot!(ρ, l ./ (s .* s); lab=\"Connectance\")\n",
    "xaxis!(\"Cutoff\", (0, 1))\n",
    "yaxis!(\"  \", (0, 0.5))\n",
    "vline!([ρ[findlast(S .== 1)]]; c=:grey, ls=:dash, lab=\"\")\n",
    "\n",
    "savefig(\"figures/cutoff-connectance.png\")"
   ],
   "metadata": {},
   "execution_count": null
  },
  {
   "cell_type": "markdown",
   "source": [
    "Based on the above, we set the prediction threshold at the point where all\n",
    "species remain connected."
   ],
   "metadata": {}
  },
  {
   "outputs": [],
   "cell_type": "code",
   "source": [
    "thrind = findlast(S .== 1)\n",
    "@info \"Optimal cutoff based on remaining species: $(ρ[thrind])\"\n",
    "@info \"Optimal cutoff based on central differences: $(ρ[last(findmax(∂U))])\""
   ],
   "metadata": {},
   "execution_count": null
  },
  {
   "cell_type": "markdown",
   "source": [
    "## Finalizing the network"
   ],
   "metadata": {}
  },
  {
   "cell_type": "markdown",
   "source": [
    "We will finally remove all of the thresholded interactions, and this will be\n",
    "the final Canadian metaweb."
   ],
   "metadata": {}
  },
  {
   "outputs": [],
   "cell_type": "code",
   "source": [
    "K = copy(P)\n",
    "K.edges[P.edges .< ρ[thrind]] .= 0.0\n",
    "dropzeros!(K.edges)"
   ],
   "metadata": {},
   "execution_count": null
  },
  {
   "cell_type": "markdown",
   "source": [
    "We now convert the network into a data frame, which we sort by probability and\n",
    "then by species name:"
   ],
   "metadata": {}
  },
  {
   "outputs": [],
   "cell_type": "code",
   "source": [
    "int = DataFrame(; from=String[], to=String[], score=Float64[])\n",
    "for i in interactions(K)\n",
    "    push!(int, (i.from, i.to, i.probability))\n",
    "end\n",
    "sort!(int, [:score, :from, :to]; rev=[true, false, false])"
   ],
   "metadata": {},
   "execution_count": null
  },
  {
   "cell_type": "markdown",
   "source": [
    "Finally, we write the really final Canadian metaweb to a file!"
   ],
   "metadata": {}
  },
  {
   "outputs": [],
   "cell_type": "code",
   "source": [
    "CSV.write(\"artifacts/canadian_thresholded.csv\", int)"
   ],
   "metadata": {},
   "execution_count": null
  },
  {
   "cell_type": "markdown",
   "source": [
    "## Some final cleanup"
   ],
   "metadata": {}
  },
  {
   "outputs": [],
   "cell_type": "code",
   "source": [
    "rls = DataFrame(;\n",
    "    sp=String[],\n",
    "    gen=Float64[],\n",
    "    gen_var=Float64[],\n",
    "    vul=Float64[],\n",
    "    vul_var=Float64[],\n",
    "    role=Symbol[],\n",
    ")\n",
    "\n",
    "din = degree(K; dims=2)\n",
    "dinv = degree_var(K; dims=2)\n",
    "dout = degree(K; dims=1)\n",
    "doutv = degree_var(K; dims=1)\n",
    "\n",
    "for s in species(K)\n",
    "    rl = :int\n",
    "    iszero(din[s]) && (rl = :top)\n",
    "    iszero(dout[s]) && (rl = :prd)\n",
    "    push!(rls, (s, dout[s], doutv[s], din[s], dinv[s], rl))\n",
    "end\n",
    "\n",
    "sort!(rls, :gen; rev=true)\n",
    "CSV.write(\"artifacts/species_roles.csv\", rls)\n",
    "\n",
    "plot(log1p.(sort(rls.gen; rev=true)); lab=\"Out-degree\", size=(500, 500), dpi=600)\n",
    "plot!(log1p.(sort(rls.vul; rev=true)); lab=\"In-degree\")\n",
    "xaxis!(\"Rank\", (0, 180))\n",
    "yaxis!(\"log(degree + 1)\", (0, 5))\n",
    "\n",
    "savefig(\"figures/final-degree.png\")"
   ],
   "metadata": {},
   "execution_count": null
  },
  {
   "cell_type": "markdown",
   "source": [
    "---\n",
    "\n",
    "*This notebook was generated using [Literate.jl](https://github.com/fredrikekre/Literate.jl).*"
   ],
   "metadata": {}
  }
 ],
 "nbformat_minor": 3,
 "metadata": {
  "language_info": {
   "file_extension": ".jl",
   "mimetype": "application/julia",
   "name": "julia",
   "version": "1.6.2"
  },
  "kernelspec": {
   "name": "julia-1.6",
   "display_name": "Julia 1.6.2",
   "language": "julia"
  }
 },
 "nbformat": 4
}
