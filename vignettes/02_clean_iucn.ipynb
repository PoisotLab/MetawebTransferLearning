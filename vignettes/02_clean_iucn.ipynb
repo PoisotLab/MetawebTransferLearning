{
 "cells": [
  {
   "cell_type": "markdown",
   "source": [
    "# Step 3 - IUCN cleanup"
   ],
   "metadata": {}
  },
  {
   "outputs": [],
   "cell_type": "code",
   "source": [
    "using GBIF\n",
    "using CSV, DataFrames\n",
    "using ProgressMeter\n",
    "using Base.Threads"
   ],
   "metadata": {},
   "execution_count": null
  },
  {
   "cell_type": "markdown",
   "source": [
    "We downloaded a checklist of mammals reported to be in Canada from the IUCN\n",
    "database. Before deciding on this solution, we examined a few alternatives,\n",
    "notably the use of GBIF occurrences. GBIF occurrences had a few issues,\n",
    "including spurious records, museum specimens incorrectly tagged, captive\n",
    "exotic species being reported as occurrences, etc."
   ],
   "metadata": {}
  },
  {
   "outputs": [],
   "cell_type": "code",
   "source": [
    "checklist = DataFrame(CSV.File(joinpath(\"data\", \"taxonomy.csv\")))"
   ],
   "metadata": {},
   "execution_count": null
  },
  {
   "cell_type": "markdown",
   "source": [
    "## Taxonomy filtering"
   ],
   "metadata": {}
  },
  {
   "cell_type": "markdown",
   "source": [
    "The European metaweb is limited to \"terrestrial\" mammals. For this reason, we\n",
    "identified a number of taxonomic groups (mostly families) that are present in\n",
    "Canada but were excluded from the source dataset, and remove them."
   ],
   "metadata": {}
  },
  {
   "outputs": [],
   "cell_type": "code",
   "source": [
    "valid_rows = map(\n",
    "    fam ->\n",
    "        !(\n",
    "            fam ∈ [\n",
    "                \"BALAENIDAE\",\n",
    "                \"PHYSETERIDAE\",\n",
    "                \"DELPHINIDAE\",\n",
    "                \"BALAENOPTERIDAE\",\n",
    "                \"OTARIIDAE\",\n",
    "                \"PHOCIDAE\",\n",
    "                \"ODOBENIDAE\",\n",
    "                \"ZIPHIIDAE\",\n",
    "                \"MONODONTIDAE\",\n",
    "                \"ESCHRICHTIIDAE\",\n",
    "                \"KOGIIDAE\",\n",
    "                \"PHOCOENIDAE\"\n",
    "            ]\n",
    "        ),\n",
    "    checklist.familyName,\n",
    ")\n",
    "checklist = checklist[findall(valid_rows), :]"
   ],
   "metadata": {},
   "execution_count": null
  },
  {
   "cell_type": "markdown",
   "source": [
    "## Species-specific removal"
   ],
   "metadata": {}
  },
  {
   "cell_type": "markdown",
   "source": [
    "*Neovison macrodon* (considered to be extinct) and *Enhydra lutris* (considered\n",
    "a marine mammal) are removed as well."
   ],
   "metadata": {}
  },
  {
   "outputs": [],
   "cell_type": "code",
   "source": [
    "extinct_sp = map(\n",
    "    sp ->\n",
    "        !(\n",
    "            sp ∈ [\n",
    "                \"Neovison macrodon\",\n",
    "                \"Enhydra lutris\"\n",
    "            ]\n",
    "        ),\n",
    "    checklist.scientificName,\n",
    ")\n",
    "checklist = checklist[findall(extinct_sp), :]"
   ],
   "metadata": {},
   "execution_count": null
  },
  {
   "cell_type": "markdown",
   "source": [
    "## Reconciliation on the GBIF names"
   ],
   "metadata": {}
  },
  {
   "cell_type": "markdown",
   "source": [
    "By this point, the approach should be familiar: we will create a thread-safe\n",
    "structure for the name cleaning, and use the GBIF API to find the correct\n",
    "matches."
   ],
   "metadata": {}
  },
  {
   "outputs": [],
   "cell_type": "code",
   "source": [
    "checklist_cleanup_components = [\n",
    "    DataFrame(; code=String[], gbifname=String[], gbifid=Int64[], equal=Bool[]) for\n",
    "    i in 1:nthreads()\n",
    "]"
   ],
   "metadata": {},
   "execution_count": null
  },
  {
   "cell_type": "markdown",
   "source": [
    "Again, we get rid of `_` before doing the matching. This is actually *not*\n",
    "something we want built into the name cleaning function itself, because some\n",
    "taxa have underscores as valid identifiers. None of the taxa from this\n",
    "specific dataset do, but it is better to keep the low-level tools general, and\n",
    "make the specific changes in user-code."
   ],
   "metadata": {}
  },
  {
   "outputs": [],
   "cell_type": "code",
   "source": [
    "p = Progress(length(checklist.scientificName))\n",
    "@threads for i in 1:length(checklist.scientificName)\n",
    "    cname = replace(checklist.scientificName[i], '_' => ' ')\n",
    "    try\n",
    "        tax = GBIF.taxon(cname; strict=false, class=\"Mammalia\")\n",
    "        push!(\n",
    "            checklist_cleanup_components[threadid()],\n",
    "            (\n",
    "                checklist.scientificName[i],\n",
    "                tax.species[1],\n",
    "                tax.species[2],\n",
    "                cname == tax.species[1],\n",
    "            ),\n",
    "        )\n",
    "    catch\n",
    "        continue\n",
    "    end\n",
    "    next!(p)\n",
    "end"
   ],
   "metadata": {},
   "execution_count": null
  },
  {
   "cell_type": "markdown",
   "source": [
    "We finally write the artifact:"
   ],
   "metadata": {}
  },
  {
   "outputs": [],
   "cell_type": "code",
   "source": [
    "checklist_cleanup = vcat(checklist_cleanup_components...)\n",
    "CSV.write(joinpath(\"artifacts\", \"iucn_gbif_names.csv\"), checklist_cleanup)"
   ],
   "metadata": {},
   "execution_count": null
  },
  {
   "cell_type": "markdown",
   "source": [
    "---\n",
    "\n",
    "*This notebook was generated using [Literate.jl](https://github.com/fredrikekre/Literate.jl).*"
   ],
   "metadata": {}
  }
 ],
 "nbformat_minor": 3,
 "metadata": {
  "language_info": {
   "file_extension": ".jl",
   "mimetype": "application/julia",
   "name": "julia",
   "version": "1.6.2"
  },
  "kernelspec": {
   "name": "julia-1.6",
   "display_name": "Julia 1.6.2",
   "language": "julia"
  }
 },
 "nbformat": 4
}
