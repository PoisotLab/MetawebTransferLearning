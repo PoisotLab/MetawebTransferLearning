{
 "cells": [
  {
   "cell_type": "markdown",
   "source": [
    "# Step 5 - the actual prediction"
   ],
   "metadata": {}
  },
  {
   "cell_type": "markdown",
   "source": [
    "This is the largest step in the entire pipeline, but not necessarily a complex\n",
    "one. In short, this will generate the entire paper, minus some of the data\n",
    "inflation and post-processing steps. As such, there are a few dependencies in\n",
    "play."
   ],
   "metadata": {}
  },
  {
   "outputs": [],
   "cell_type": "code",
   "source": [
    "using PhyloNetworks\n",
    "using ProgressMeter\n",
    "using LinearAlgebra\n",
    "using EcologicalNetworks\n",
    "using DelimitedFiles\n",
    "using Random\n",
    "using StatsPlots\n",
    "using StatsBase\n",
    "using Statistics\n",
    "using SparseArrays\n",
    "using CSV\n",
    "using DataFrames\n",
    "using GBIF\n",
    "using Base.Threads\n",
    "using StatsBase\n",
    "using StatsModels\n",
    "using Distributions"
   ],
   "metadata": {},
   "execution_count": null
  },
  {
   "cell_type": "markdown",
   "source": [
    "These lines are ensuring that the figures all look uniform, and we also set a\n",
    "seed for reproducibility."
   ],
   "metadata": {}
  },
  {
   "outputs": [],
   "cell_type": "code",
   "source": [
    "theme(:mute)\n",
    "default(; frame=:box)\n",
    "Random.seed!(01189998819991197253)"
   ],
   "metadata": {},
   "execution_count": null
  },
  {
   "cell_type": "markdown",
   "source": [
    "Some functions that are required for phylogenetic imputation are stored in\n",
    "another file, and we will load them here to be done with that."
   ],
   "metadata": {}
  },
  {
   "outputs": [],
   "cell_type": "code",
   "source": [
    "include(\"lib/pwar.jl\")"
   ],
   "metadata": {},
   "execution_count": null
  },
  {
   "cell_type": "markdown",
   "source": [
    "## Reading the data pieces"
   ],
   "metadata": {}
  },
  {
   "cell_type": "markdown",
   "source": [
    "Reading the tree is done with `PhyloNetworks` this time -- this is where we\n",
    "will get the Brownian motion code from:"
   ],
   "metadata": {}
  },
  {
   "outputs": [],
   "cell_type": "code",
   "source": [
    "tree_net = readTopology(joinpath(\"data\", \"mammals.newick\"));"
   ],
   "metadata": {},
   "execution_count": null
  },
  {
   "cell_type": "markdown",
   "source": [
    "We will grab back the corrected Europe/tree/GBIF names, as they will be used\n",
    "quite a lot to match simulations to species names:"
   ],
   "metadata": {}
  },
  {
   "outputs": [],
   "cell_type": "code",
   "source": [
    "namelist = DataFrame(CSV.File(joinpath(\"artifacts\", \"names_metaweb_tree_gbif.csv\")))"
   ],
   "metadata": {},
   "execution_count": null
  },
  {
   "cell_type": "markdown",
   "source": [
    "Finally, we grab the European metaweb *not* from the original file, but from\n",
    "our edgelist artifact."
   ],
   "metadata": {}
  },
  {
   "outputs": [],
   "cell_type": "code",
   "source": [
    "eurometa = readdlm(joinpath(\"artifacts\", \"europeanmetaweb.csv\"), ',', String)\n",
    "mwspecies = unique(eurometa)\n",
    "M = UnipartiteNetwork(zeros(Bool, length(mwspecies), length(mwspecies)), mwspecies)\n",
    "for i in 1:size(eurometa, 1)\n",
    "    M[eurometa[i, :]...] = true\n",
    "end"
   ],
   "metadata": {},
   "execution_count": null
  },
  {
   "cell_type": "markdown",
   "source": [
    "## Finding the rank for truncation"
   ],
   "metadata": {}
  },
  {
   "cell_type": "markdown",
   "source": [
    "The ideal way to find a cutoff for the rank at which the matrix should be cut\n",
    "would involve the profile likelihood, or approximating the maximum curvature\n",
    "point on the screeplot using the central difference approximation for the\n",
    "second order partial derivative. Sadly all of these approaches will conclude\n",
    "that only the first dimension is required (there is a biological reason for\n",
    "this, to which we will return when we dig into the biological meaning of the\n",
    "latent variables)."
   ],
   "metadata": {}
  },
  {
   "cell_type": "markdown",
   "source": [
    "The only eigenvalues we care about are the ones that are up to the rank of the\n",
    "adjacency matrix - we will extract them, and range them so that they sum to\n",
    "unity. It makes no difference in the results, and allows us to read the\n",
    "proportion of variance explained directly."
   ],
   "metadata": {}
  },
  {
   "outputs": [],
   "cell_type": "code",
   "source": [
    "rnk = rank(adjacency(M))\n",
    "eig = svd(M).S[1:rnk]\n",
    "neig = eig ./ sum(eig)"
   ],
   "metadata": {},
   "execution_count": null
  },
  {
   "cell_type": "markdown",
   "source": [
    "The first piece of information is a screeplot of the eigenvalues. As a rule,\n",
    "the document rendered from the literate files will not include the figures, as\n",
    "we do not want to go into the analysis (there is, after all, a whole paper for\n",
    "that)."
   ],
   "metadata": {}
  },
  {
   "outputs": [],
   "cell_type": "code",
   "source": [
    "scatter(eig; lab=\"\", dpi=600, size=(500, 500))\n",
    "xaxis!(\"Dimension\", (1, 38))\n",
    "yaxis!(\"Eigenvalue\", (0, 40))\n",
    "savefig(\"figures/screeplot.png\")"
   ],
   "metadata": {},
   "execution_count": null
  },
  {
   "cell_type": "markdown",
   "source": [
    "The second diagnosis plot is the proportion of variance explained. We added\n",
    "lines marking the points that explain between 50% and 90% of the total\n",
    "variance, every 10%."
   ],
   "metadata": {}
  },
  {
   "outputs": [],
   "cell_type": "code",
   "source": [
    "scatter(cumsum(neig); lab=\"\", dpi=600, size=(500, 500))\n",
    "for ve in [0.5, 0.6, 0.7, 0.8, 0.9]\n",
    "    i = findfirst(cumsum(neig) .> ve)\n",
    "    x = cumsum(neig)[i]\n",
    "    plot!([0, i, NaN, i, i], [x, x, NaN, x, 0]; lab=\"\", c=:grey, ls=:dash)\n",
    "end\n",
    "xaxis!(\"Dimension\", (1, 38))\n",
    "yaxis!(\"Cumulative variance explained\", (0, 1.0))\n",
    "savefig(\"figures/varexplained.png\")"
   ],
   "metadata": {},
   "execution_count": null
  },
  {
   "cell_type": "markdown",
   "source": [
    "At this point, we need to make an arbitrary call, which is to say to decide on\n",
    "a proportion of variance explained. We decided on 60%, which means that the\n",
    "first 12 ranks will be used."
   ],
   "metadata": {}
  },
  {
   "cell_type": "markdown",
   "source": [
    "## Embedding the European metaweb"
   ],
   "metadata": {}
  },
  {
   "outputs": [],
   "cell_type": "code",
   "source": [
    "L, R = rdpg(M, 12)"
   ],
   "metadata": {},
   "execution_count": null
  },
  {
   "cell_type": "markdown",
   "source": [
    "The `L` and `R` variables are the left and right subspaces from the random dot\n",
    "product graph (which in turn are the left and right subspace from the t-SVD\n",
    "multiplied by the square root of the diagonal matrix containing the\n",
    "eigenvalues). Multiplying `L` and `R` (using a matrix multiplication!) will\n",
    "give a rank-12 approximation of the European metaweb."
   ],
   "metadata": {}
  },
  {
   "cell_type": "markdown",
   "source": [
    "## Thresholding the embedded network"
   ],
   "metadata": {}
  },
  {
   "cell_type": "markdown",
   "source": [
    "The reconstucted network (`L*R`) will not have Boolean values. Essentially,\n",
    "the multiplication will approximate something with values in {0,1} by\n",
    "something with values in ℝ, and so we need to find a cutoff to separate\n",
    "interactions from non-interactions. This threshold is important because it\n",
    "holds for any reconstruction made using these latent variables - that is to\n",
    "say, when we infer the Canadian interactions using reconstrusted left and\n",
    "right subspaces, we will apply the same threshold."
   ],
   "metadata": {}
  },
  {
   "cell_type": "markdown",
   "source": [
    "Our basic approach to threshdolding is to examine 500 cutoffs points, get the\n",
    "confusion matrix, and retain as a threshold the value that maximizes\n",
    "Informedness:"
   ],
   "metadata": {}
  },
  {
   "outputs": [],
   "cell_type": "code",
   "source": [
    "A = adjacency(M)\n",
    "thresholds = LinRange(extrema(L * R)..., 500)\n",
    "tp = zeros(Float64, length(thresholds))\n",
    "tn = similar(tp)\n",
    "fp = similar(tp)\n",
    "fn = similar(tp)\n",
    "for (i, t) in enumerate(thresholds)\n",
    "    PN = (L * R) .>= t\n",
    "    tp[i] = sum((A) .& (PN)) / sum(A)\n",
    "    tn[i] = sum((.!(A)) .& (.!(PN))) / sum(.!(A))\n",
    "    fp[i] = sum((.!(A)) .& (PN)) / sum(.!(A))\n",
    "    fn[i] = sum((A) .& (.!(PN))) / sum(A)\n",
    "end"
   ],
   "metadata": {},
   "execution_count": null
  },
  {
   "cell_type": "markdown",
   "source": [
    "We can calculate Youden's J at every cutoff, and the threshold is going to be\n",
    "the threshold associated to the maximum Y:"
   ],
   "metadata": {}
  },
  {
   "outputs": [],
   "cell_type": "code",
   "source": [
    "Y = tp .+ tn .- 1\n",
    "maxY, posY = findmax(Y)\n",
    "threshold = thresholds[posY]"
   ],
   "metadata": {},
   "execution_count": null
  },
  {
   "cell_type": "markdown",
   "source": [
    "We can plot the optimal cutoff - this is not presented in the manuscript, but\n",
    "useful in case you need to satisfy your curiosity. The best cutoff gives an\n",
    "informedness essentially = 1, which is expected."
   ],
   "metadata": {}
  },
  {
   "outputs": [],
   "cell_type": "code",
   "source": [
    "plot(thresholds, Y; lw=0.0, fill=(0, 0.2), lab=\"\", dpi=600, size=(500, 500))\n",
    "scatter!([threshold], [maxY]; lab=\"\", c=:darkgrey, msw=0.0)\n",
    "yaxis!(\"Youden's J\", (0, 1))\n",
    "xaxis!(\"Cutoff\", extrema(L * R))\n",
    "savefig(\"figures/optimalcutoff.png\")"
   ],
   "metadata": {},
   "execution_count": null
  },
  {
   "cell_type": "markdown",
   "source": [
    "## Visual examination of the subspaces"
   ],
   "metadata": {}
  },
  {
   "cell_type": "markdown",
   "source": [
    "The left and right subspaces *do* hold ecological information, and so it is a\n",
    "good idea to check them out visually. One striking result is that species with\n",
    "a value of 0 in the left subspace also have no preys: this is a strong clue\n",
    "that the left subspace is associated to generality (in the sense of Schoener\n",
    "1989), a fact we will epxloit later on."
   ],
   "metadata": {}
  },
  {
   "outputs": [],
   "cell_type": "code",
   "source": [
    "plot(\n",
    "    heatmap(L; c=:GnBu, frame=:none, cbar=false),\n",
    "    heatmap(R'; c=:BuPu, frame=:none, cbar=false);\n",
    "    dpi=600,\n",
    "    size=(500, 400),\n",
    ")\n",
    "savefig(\"figures/subspaces.png\")"
   ],
   "metadata": {},
   "execution_count": null
  },
  {
   "cell_type": "markdown",
   "source": [
    "## Preparing the tree for inference"
   ],
   "metadata": {}
  },
  {
   "cell_type": "markdown",
   "source": [
    "We are now ready to move on to the next step: infering the values of the left\n",
    "and right subspaces for the species that are not in the European metaweb, but\n",
    "are in the tree. To do so, we will need the tip names:"
   ],
   "metadata": {}
  },
  {
   "outputs": [],
   "cell_type": "code",
   "source": [
    "treeleaves = tipLabels(tree_net)"
   ],
   "metadata": {},
   "execution_count": null
  },
  {
   "cell_type": "markdown",
   "source": [
    "We are now ready to match the tree to the Canadian species pool names:"
   ],
   "metadata": {}
  },
  {
   "outputs": [],
   "cell_type": "code",
   "source": [
    "canada = DataFrame(CSV.File(joinpath(\"artifacts\", \"iucn_gbif_names.csv\")))\n",
    "cancodes = replace.(unique(filter(!ismissing, canada.gbifname)), \" \" => \"_\")\n",
    "tree_cleanup = DataFrame(CSV.File(joinpath(\"artifacts\", \"upham_gbif_names.csv\")))\n",
    "\n",
    "csp = dropmissing!(DataFrame(; gbifname=canada.gbifname))\n",
    "csp = dropmissing(leftjoin(csp, tree_cleanup; on=:gbifname))"
   ],
   "metadata": {},
   "execution_count": null
  },
  {
   "cell_type": "markdown",
   "source": [
    "We can store the cleaned Canadian species name into a data frame - this is\n",
    "mandated by the `PhyloNetworks` interface:"
   ],
   "metadata": {}
  },
  {
   "outputs": [],
   "cell_type": "code",
   "source": [
    "canmammals = unique(csp.code)\n",
    "pool = DataFrame(; tipNames=canmammals)"
   ],
   "metadata": {},
   "execution_count": null
  },
  {
   "cell_type": "markdown",
   "source": [
    "We finally convert the network names to their underscored versions:"
   ],
   "metadata": {}
  },
  {
   "outputs": [],
   "cell_type": "code",
   "source": [
    "metaweb_can_names = replace.(M.S, \" \" => \"_\")\n",
    "filter((x) -> (x) ∉ (metaweb_can_names ∩ treeleaves), metaweb_can_names)"
   ],
   "metadata": {},
   "execution_count": null
  },
  {
   "cell_type": "markdown",
   "source": [
    "This prepare a data frame for the trait values:"
   ],
   "metadata": {}
  },
  {
   "outputs": [],
   "cell_type": "code",
   "source": [
    "traitframe = DataFrame(; tipNames=treeleaves)"
   ],
   "metadata": {},
   "execution_count": null
  },
  {
   "cell_type": "markdown",
   "source": [
    "## Infering the subspaces from the phylogeny"
   ],
   "metadata": {}
  },
  {
   "cell_type": "markdown",
   "source": [
    "We will prepare the data frame required by `PhyloNetworks` to store the\n",
    "reconstructed traits:"
   ],
   "metadata": {}
  },
  {
   "outputs": [],
   "cell_type": "code",
   "source": [
    "matching_tree_reconstruction = DataFrame(;\n",
    "    tipNames=treeleaves, nodeNumber=range(1, length(treeleaves); step=1)\n",
    ")"
   ],
   "metadata": {},
   "execution_count": null
  },
  {
   "cell_type": "markdown",
   "source": [
    "To avoid writing long code, we prepare a series of columns with L and R as a\n",
    "prefix, and the number (from 1 to 12) of the corresponding dimension as a\n",
    "suffix:"
   ],
   "metadata": {}
  },
  {
   "outputs": [],
   "cell_type": "code",
   "source": [
    "leftnames = \"L\" .* string.(1:size(L, 2))\n",
    "traits_L = DataFrame(L, Symbol.(leftnames))\n",
    "traits_L[!, \"tipNames\"] = metaweb_can_names\n",
    "\n",
    "rightnames = \"R\" .* string.(1:size(R, 1))\n",
    "traits_R = DataFrame(R', rightnames)\n",
    "traits_R[!, \"tipNames\"] = metaweb_can_names"
   ],
   "metadata": {},
   "execution_count": null
  },
  {
   "cell_type": "markdown",
   "source": [
    "We can now merge these dataframes, and have something fully ready to be filled\n",
    "by the phylogenetic simulation:"
   ],
   "metadata": {}
  },
  {
   "outputs": [],
   "cell_type": "code",
   "source": [
    "traits = leftjoin(traitframe, traits_L; on=:tipNames)\n",
    "traits = leftjoin(traits, traits_R; on=:tipNames)\n",
    "\n",
    "imputedtraits = DataFrame(;\n",
    "    tipNames=[treeleaves; fill(missing, tree_net.numNodes - tree_net.numTaxa)]\n",
    ")"
   ],
   "metadata": {},
   "execution_count": null
  },
  {
   "cell_type": "markdown",
   "source": [
    "The last step is to reconstruct each trait (L1 to L12, R1 to R12) for the\n",
    "entire tree. This is by far the longest part of the script, but it is not\n",
    "terribly long. This could probably be made thread parallel fairly easily but,\n",
    "this would also take more time to do than it takes to run."
   ],
   "metadata": {}
  },
  {
   "outputs": [],
   "cell_type": "code",
   "source": [
    "for coord in 1:size(L, 2)\n",
    "    for prefix in [\"L\", \"R\"]\n",
    "        @info \"Reconstructing $(prefix)$(coord)\"\n",
    "        lower, upper, mean_trait = leaf_traits_reconstruction(\n",
    "            traits[!, [\"$(prefix)$(coord)\", \"tipNames\"]], tree_net\n",
    "        )\n",
    "        imputedtraits[!, \"$(prefix)$(coord)_low\"] = lower\n",
    "        imputedtraits[!, \"$(prefix)$(coord)_up\"] = upper\n",
    "        imputedtraits[!, \"$(prefix)$(coord)_mean\"] = mean_trait\n",
    "    end\n",
    "end"
   ],
   "metadata": {},
   "execution_count": null
  },
  {
   "cell_type": "markdown",
   "source": [
    "When the loop is done, we extract the values for the species in the Canadian\n",
    "species pool:"
   ],
   "metadata": {}
  },
  {
   "outputs": [],
   "cell_type": "code",
   "source": [
    "canadian_rec = innerjoin(dropmissing(imputedtraits), pool; on=:tipNames)"
   ],
   "metadata": {},
   "execution_count": null
  },
  {
   "cell_type": "markdown",
   "source": [
    "## Extracting the left and right subspaces from canada"
   ],
   "metadata": {}
  },
  {
   "cell_type": "markdown",
   "source": [
    "This part of the script uses the same characters as the equations in the paper\n",
    "- if you do not have a typeface with good unicode mathematical support\n",
    "installed, you might not get the full effect."
   ],
   "metadata": {}
  },
  {
   "cell_type": "markdown",
   "source": [
    "Recall that a RDGP approximation is a matrix multiplication - we will\n",
    "therefore get the reconstructed average values after the Brownian motion\n",
    "model, and have a little look at them:"
   ],
   "metadata": {}
  },
  {
   "outputs": [],
   "cell_type": "code",
   "source": [
    "𝓁 = Array(canadian_rec[!, leftnames .* \"_mean\"])\n",
    "𝓇 = transpose(Array(canadian_rec[!, rightnames .* \"_mean\"]))\n",
    "\n",
    "plot(\n",
    "    heatmap(𝓁; c=:GnBu, frame=:none, cbar=false),\n",
    "    heatmap(𝓇'; c=:BuPu, frame=:none, cbar=false);\n",
    "    dpi=600,\n",
    "    size=(500, 400),\n",
    ")\n",
    "savefig(\"figures/imputed-subspaces.png\")"
   ],
   "metadata": {},
   "execution_count": null
  },
  {
   "cell_type": "markdown",
   "source": [
    "## Generating a probabilistic network"
   ],
   "metadata": {}
  },
  {
   "cell_type": "markdown",
   "source": [
    "Because the Brownian motion model gives us a lower and upper bound, we will\n",
    "perform a series of random draws assuming that the values are uniformly\n",
    "distributed between these values. This step of the workflow can be adapted\n",
    "further. For example, one might want to account for the uncertainty in the\n",
    "phylogeny itself, or fit the distribution returned at each node rather than\n",
    "assuming a uniform distribution. We think that our approach introduces the\n",
    "least amount of guesses; it is likely to be over-estimating the chances of\n",
    "interactions a little, but this is the purpose of a metaweb: to give a list of\n",
    "possible interactions, to be later pared down."
   ],
   "metadata": {}
  },
  {
   "outputs": [],
   "cell_type": "code",
   "source": [
    "𝓁ₗ = Array(canadian_rec[!, leftnames .* \"_low\"])\n",
    "𝓇ₗ = transpose(Array(canadian_rec[!, rightnames .* \"_low\"]))\n",
    "\n",
    "𝓁ᵤ = Array(canadian_rec[!, leftnames .* \"_up\"])\n",
    "𝓇ᵤ = transpose(Array(canadian_rec[!, rightnames .* \"_up\"]))"
   ],
   "metadata": {},
   "execution_count": null
  },
  {
   "cell_type": "markdown",
   "source": [
    "The distributions are expressed as actual Uniform distributions from the\n",
    "`Distributions` package."
   ],
   "metadata": {}
  },
  {
   "outputs": [],
   "cell_type": "code",
   "source": [
    "ℒ = Matrix{Uniform}(undef, size(𝓁))\n",
    "for i in eachindex(ℒ)\n",
    "    ℒ[i] = Uniform(𝓁ₗ[i], 𝓁ᵤ[i])\n",
    "end\n",
    "\n",
    "ℛ = Matrix{Uniform}(undef, size(𝓇))\n",
    "for i in eachindex(ℛ)\n",
    "    ℛ[i] = Uniform(𝓇ₗ[i], 𝓇ᵤ[i])\n",
    "end"
   ],
   "metadata": {},
   "execution_count": null
  },
  {
   "cell_type": "markdown",
   "source": [
    "We will do a large enough number of draws:"
   ],
   "metadata": {}
  },
  {
   "outputs": [],
   "cell_type": "code",
   "source": [
    "draws = 20_000\n",
    "\n",
    "𝐋 = [rand.(ℒ) for i in 1:draws]\n",
    "𝐑 = [rand.(ℛ) for i in 1:draws]"
   ],
   "metadata": {},
   "execution_count": null
  },
  {
   "cell_type": "markdown",
   "source": [
    "There are two pieces of information to keep in mind here. The first is that a\n",
    "RDPG is a matrix multiplication, so we simply need to multiply the 20000\n",
    "random subspaces, to get 20000 random matrices. The second is that these\n",
    "matrices give results not in {0,1} but in ℝ, but we have estimated an optimal\n",
    "threshold for this projection. Doing all this is a one-liner:"
   ],
   "metadata": {}
  },
  {
   "outputs": [],
   "cell_type": "code",
   "source": [
    "Ns = [(𝐋[i] * 𝐑[i]) .> threshold for i in 1:length(𝐋)]"
   ],
   "metadata": {},
   "execution_count": null
  },
  {
   "cell_type": "markdown",
   "source": [
    "We can finally generate a probabilistic metaweb, in which the probability is\n",
    "defined as the proprtion of samples in which the interaction was inferred:"
   ],
   "metadata": {}
  },
  {
   "outputs": [],
   "cell_type": "code",
   "source": [
    "P = UnipartiteProbabilisticNetwork(\n",
    "    reduce(.+, Ns) ./ draws, replace.(canadian_rec.tipNames, \"_\" => \" \")\n",
    ")"
   ],
   "metadata": {},
   "execution_count": null
  },
  {
   "cell_type": "markdown",
   "source": [
    "We can have a little look at the interactions sorted by probabilities:"
   ],
   "metadata": {}
  },
  {
   "outputs": [],
   "cell_type": "code",
   "source": [
    "sort(interactions(P); by=(x) -> x.probability, rev=true)"
   ],
   "metadata": {},
   "execution_count": null
  },
  {
   "cell_type": "markdown",
   "source": [
    "## Visualising the results"
   ],
   "metadata": {}
  },
  {
   "cell_type": "markdown",
   "source": [
    "The next figures are very simple plots of the adjacency matrices:"
   ],
   "metadata": {}
  },
  {
   "outputs": [],
   "cell_type": "code",
   "source": [
    "sporder = sortperm(vec(sum(adjacency(P); dims=2)))\n",
    "h1 = heatmap(\n",
    "    adjacency(P)[sporder, sporder];\n",
    "    c=:Greys,\n",
    "    frame=:none,\n",
    "    cbar=false,\n",
    "    dpi=600,\n",
    "    size=(500, 500),\n",
    "    aspectratio=1,\n",
    ")\n",
    "\n",
    "sporder = sortperm(vec(sum(adjacency(M); dims=2)))\n",
    "h2 = heatmap(\n",
    "    adjacency(M)[sporder, sporder];\n",
    "    c=:Greys,\n",
    "    frame=:none,\n",
    "    cbar=false,\n",
    "    dpi=600,\n",
    "    size=(500, 500),\n",
    "    aspectratio=1,\n",
    ")\n",
    "\n",
    "plot(h2, h1; size=(1000, 500))\n",
    "savefig(\"figures/adjacencymatrices.png\")"
   ],
   "metadata": {},
   "execution_count": null
  },
  {
   "cell_type": "markdown",
   "source": [
    "## Writing output files for the raw predictions"
   ],
   "metadata": {}
  },
  {
   "cell_type": "markdown",
   "source": [
    "We will store the results in a data frame - the information we care about is\n",
    "the probability for the species pair, and whether the pair was also found in\n",
    "Europe, and if so, whether it interacted:"
   ],
   "metadata": {}
  },
  {
   "outputs": [],
   "cell_type": "code",
   "source": [
    "output = DataFrame(; from=String[], to=String[], score=Float64[], pair=Bool[], int=Bool[])\n",
    "for int in interactions(P)\n",
    "    pair = (int.from in species(M)) & (int.to in species(M))\n",
    "    mint = pair ? M[int.from, int.to] : false\n",
    "    push!(output, (int.from, int.to, int.probability, pair, mint))\n",
    "end\n",
    "sort!(output, [:score, :from, :to]; rev=[true, false, false])"
   ],
   "metadata": {},
   "execution_count": null
  },
  {
   "cell_type": "markdown",
   "source": [
    "Save the basic network (no corrections)"
   ],
   "metadata": {}
  },
  {
   "outputs": [],
   "cell_type": "code",
   "source": [
    "CSV.write(\"artifacts/canadian_uncorrected.csv\", output)"
   ],
   "metadata": {},
   "execution_count": null
  },
  {
   "cell_type": "markdown",
   "source": [
    "## Exploration of the relationship between subspaces and network properties"
   ],
   "metadata": {}
  },
  {
   "outputs": [],
   "cell_type": "code",
   "source": [
    "kout = degree(P; dims=1)\n",
    "kin = degree(P; dims=2)\n",
    "ordered_sp = replace.(canadian_rec.tipNames, \"_\" => \" \")\n",
    "\n",
    "scatter(\n",
    "    𝓁[:, 1], [kout[s] / richness(P) for s in ordered_sp]; dpi=600, size=(500, 500), lab=\"\"\n",
    ")\n",
    "xaxis!(\"Position in the left subspace\", extrema(vcat(𝓇', 𝓁)))\n",
    "yaxis!(\"Probabilistic generality\", (0, 1))\n",
    "savefig(\"figures/left-gen.png\")\n",
    "\n",
    "scatter(\n",
    "    𝓇'[:, 1],\n",
    "    [kin[s] / richness(P) for s in ordered_sp];\n",
    "    dpi=600,\n",
    "    size=(500, 500),\n",
    "    lab=\"\",\n",
    "    legend=:bottomright,\n",
    ")\n",
    "xaxis!(\"Position in the right subspace\", extrema(vcat(𝓇', 𝓁)))\n",
    "yaxis!(\"Probabilistic vulnerability\")\n",
    "savefig(\"figures/right-vuln.png\")"
   ],
   "metadata": {},
   "execution_count": null
  },
  {
   "cell_type": "markdown",
   "source": [
    "## Basic corrections"
   ],
   "metadata": {}
  },
  {
   "cell_type": "markdown",
   "source": [
    "We will directly bring knowledge from the European metaweb, meaning that if\n",
    "two species interact in Europe, we assume they also do in Canada (remember,\n",
    "these are metawebs, we only care about the biological feasibility of the\n",
    "interaction); if two species do not interact in Europe, we prevent them from\n",
    "interacting in Canada - this later point could be reversed, by inflating the\n",
    "European metaweb using the simulation results, and whether to apply this step\n",
    "at all can be considered on a case by case basis."
   ],
   "metadata": {}
  },
  {
   "outputs": [],
   "cell_type": "code",
   "source": [
    "N = copy(P)\n",
    "shared_species = filter(s -> s in species(M), species(P))\n",
    "for s1 in shared_species\n",
    "    for s2 in shared_species\n",
    "        N[s1, s2] = M[s1, s2] ? 1.0 : 0.0\n",
    "    end\n",
    "end"
   ],
   "metadata": {},
   "execution_count": null
  },
  {
   "cell_type": "markdown",
   "source": [
    "We may have introduced a number of 0s in the sparse matrix, and it is good\n",
    "hygiene to remove them."
   ],
   "metadata": {}
  },
  {
   "outputs": [],
   "cell_type": "code",
   "source": [
    "SparseArrays.dropzeros!(N.edges)\n",
    "simplify!(N)"
   ],
   "metadata": {},
   "execution_count": null
  },
  {
   "cell_type": "markdown",
   "source": [
    "## Writing the final metaweb"
   ],
   "metadata": {}
  },
  {
   "outputs": [],
   "cell_type": "code",
   "source": [
    "final = DataFrame(; from=String[], to=String[], score=Float64[])\n",
    "for int in interactions(N)\n",
    "    push!(final, (int.from, int.to, int.probability))\n",
    "end\n",
    "sort!(final, [:score, :from, :to]; rev=[true, false, false])"
   ],
   "metadata": {},
   "execution_count": null
  },
  {
   "cell_type": "markdown",
   "source": [
    "Save the corrected network"
   ],
   "metadata": {}
  },
  {
   "outputs": [],
   "cell_type": "code",
   "source": [
    "CSV.write(\"artifacts/canadian_corrected.csv\", final)"
   ],
   "metadata": {},
   "execution_count": null
  },
  {
   "cell_type": "markdown",
   "source": [
    "## Plots for the core results"
   ],
   "metadata": {}
  },
  {
   "outputs": [],
   "cell_type": "code",
   "source": [
    "l = @layout [\n",
    "    a{0.3w} b\n",
    "    c{0.7h} d\n",
    "]\n",
    "\n",
    "sporder = sortperm(vec(sum(adjacency(N); dims=2)))\n",
    "\n",
    "plot(\n",
    "    plot(; legend=false, axes=false, frame=:none),\n",
    "    heatmap(𝓇[:, sporder]; frame=:none, legend=false, c=:BrBG, clim=(-1, 1)),\n",
    "    heatmap(𝓁[sporder, :]; frame=:none, legend=false, c=:PRGn, clim=(-1, 1)),\n",
    "    heatmap(adjacency(N)[sporder, sporder]; c=:Greys, frame=:none, legend=false);\n",
    "    layout=l,\n",
    "    size=(500, 500),\n",
    "    dpi=600,\n",
    ")\n",
    "\n",
    "savefig(\"figures/combined-prediction.png\")\n",
    "\n",
    "sporder = sortperm(vec(sum(adjacency(M); dims=2)))\n",
    "\n",
    "l = @layout [\n",
    "    a{0.3w} b\n",
    "    c{0.7h} d\n",
    "]\n",
    "\n",
    "plot(\n",
    "    plot(; legend=false, axes=false, frame=:none),\n",
    "    heatmap(R[:, sporder]; frame=:none, legend=false, c=:BrBG, clim=(-1, 1)),\n",
    "    heatmap(L[sporder, :]; frame=:none, legend=false, c=:PRGn, clim=(-1, 1)),\n",
    "    heatmap(adjacency(M)[sporder, sporder]; c=:Greys, frame=:none, legend=false);\n",
    "    layout=l,\n",
    "    size=(500, 500),\n",
    "    dpi=600,\n",
    ")\n",
    "\n",
    "savefig(\"figures/combined-empirical.png\")"
   ],
   "metadata": {},
   "execution_count": null
  },
  {
   "cell_type": "markdown",
   "source": [
    "MaxEnt configuration model"
   ],
   "metadata": {}
  },
  {
   "outputs": [],
   "cell_type": "code",
   "source": [
    "a = zeros(Float64, size(adjacency(P)))\n",
    "C = UnipartiteProbabilisticNetwork(a, EcologicalNetworks._species_objects(P)...)\n",
    "\n",
    "for s1 in species(P; dims=1), s2 in species(P; dims=2)\n",
    "    C[s1, s2] = 0.5(kout[s1] / richness(P) + kin[s2] / richness(P))\n",
    "end\n",
    "\n",
    "rec = 𝓁[:, 1] * hcat(𝓇'[:, 1]...)\n",
    "\n",
    "Ceff = adjacency(C)\n",
    "Cinf = rec\n",
    "\n",
    "Zeff = (Ceff .- mean(Ceff)) ./ std(Ceff)\n",
    "Zinf = (Cinf .- mean(Cinf)) ./ std(Cinf)\n",
    "\n",
    "density(sqrt.(vec(Zeff .- Zinf) .^ 2.0); size=(500, 500), dpi=600, fill=(0, 0.2), lab=\"\")\n",
    "xaxis!(\"Mean squared error\", (0, 5))\n",
    "yaxis!(\"Density\", (0, 3))\n",
    "savefig(\"figures/distance-configuration.png\")\n",
    "\n",
    "sporder = sortperm(vec(sum(adjacency(C); dims=2)))\n",
    "\n",
    "ΔZ = Zeff .- Zinf\n",
    "\n",
    "heatmap(\n",
    "    ΔZ[sporder, sporder];\n",
    "    clim=(-3, 3),\n",
    "    c=:PuOr,\n",
    "    size=(500, 500),\n",
    "    dpi=600,\n",
    "    frame=:none,\n",
    "    aspectratio=1,\n",
    ")\n",
    "savefig(\"figures/heatmap-configuration.png\")"
   ],
   "metadata": {},
   "execution_count": null
  },
  {
   "cell_type": "markdown",
   "source": [
    "---\n",
    "\n",
    "*This notebook was generated using [Literate.jl](https://github.com/fredrikekre/Literate.jl).*"
   ],
   "metadata": {}
  }
 ],
 "nbformat_minor": 3,
 "metadata": {
  "language_info": {
   "file_extension": ".jl",
   "mimetype": "application/julia",
   "name": "julia",
   "version": "1.6.2"
  },
  "kernelspec": {
   "name": "julia-1.6",
   "display_name": "Julia 1.6.2",
   "language": "julia"
  }
 },
 "nbformat": 4
}
